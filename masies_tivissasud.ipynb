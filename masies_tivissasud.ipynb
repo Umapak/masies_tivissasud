{
  "nbformat": 4,
  "nbformat_minor": 0,
  "metadata": {
    "colab": {
      "provenance": [],
      "mount_file_id": "1-lsNAWJNy9FoSiF5pqz-SthAiEDz2zj_",
      "authorship_tag": "ABX9TyMvjXifkIfHSxH9fL/fvSjG",
      "include_colab_link": true
    },
    "kernelspec": {
      "name": "python3",
      "display_name": "Python 3"
    },
    "language_info": {
      "name": "python"
    }
  },
  "cells": [
    {
      "cell_type": "markdown",
      "metadata": {
        "id": "view-in-github",
        "colab_type": "text"
      },
      "source": [
        "<a href=\"https://colab.research.google.com/github/Umapak/masies_tivissasud/blob/gh_viewers/masies_tivissasud.ipynb\" target=\"_parent\"><img src=\"https://colab.research.google.com/assets/colab-badge.svg\" alt=\"Open In Colab\"/></a>"
      ]
    },
    {
      "cell_type": "markdown",
      "source": [
        "# Masies de Tivissa Sud"
      ],
      "metadata": {
        "id": "VBl0iaADRfO2"
      }
    },
    {
      "cell_type": "code",
      "execution_count": 1,
      "metadata": {
        "id": "m5HQHQk5XR0Q"
      },
      "outputs": [],
      "source": [
        "%%capture\n",
        "!pip install --upgrade gspread\n",
        "!apt install libspatialindex-dev\n",
        "!pip install rtree\n",
        "!pip install geopandas"
      ]
    },
    {
      "cell_type": "code",
      "source": [
        "#@title import from Google drive\n",
        "from google.colab import auth\n",
        "auth.authenticate_user()\n",
        "\n",
        "import gspread\n",
        "from google.auth import default\n",
        "creds, _ = default()\n",
        "\n",
        "gc = gspread.authorize(creds)\n",
        "# hemen zehaztu behar da zein den google drive-n eman zaion izena\n",
        "pre1taula = gc.open('CAPLPV').sheet1\n",
        "# get_all_values gives a list of rows.\n",
        "erregistroak = pre1taula.get_all_values()\n",
        "print(erregistroak)\n",
        "\n",
        "# datu sorta guztia taula erabilgarri formatura pasako du eta campo bakoitzaren izena jarriko du.\n",
        "import pandas as pd\n",
        "import geopandas as gpd\n",
        "dfmasies = pd.DataFrame.from_records(erregistroak)\n",
        "dfmasies.columns = dfmasies.iloc[0]\n",
        "dfmasies = dfmasies.iloc[1: , :]"
      ],
      "metadata": {
        "colab": {
          "base_uri": "https://localhost:8080/"
        },
        "id": "k6O5FevUa8Ky",
        "outputId": "a5700fea-0819-4c72-cbd1-b84891f5a197"
      },
      "execution_count": 2,
      "outputs": [
        {
          "output_type": "stream",
          "name": "stdout",
          "text": [
            "[['id_geo', 'id_incendis', 'cota_m', 'zona_nom', 'masia_nom', 'masia_nom2', 'nombre1_y_telefono1', 'meses_habitados', 'nombre2_y_telefono2', 'telefono1', 'telefono2', 'notas_aclaratorias', 'whatsapp_tiene', 'whatsapp_nombre', 'correo', 'info_adicional', 'etiq_mapa', 'ref_catastral', 'url_mapa', 'url_catastro', 'xetrs89', 'yetrs89', 'latwgs84', 'lonwgs84'], ['1', '', '169', 'Frauques', 'Mas Helios', '', 'Gerard Guez [608 747 852] & Joëlle', '12', '', '34608747852', \"'+34 608 747 852\", '', '', '608 747 852', '', 'Museo & bodega de vino', '1 Mas Helios (Frauques)', '43152A05300028', 'https://www.instamaps.cat/visor.html?businessid=85fcdf4dd16c1608ef94765154ebc6c7&3D=false#18/40.93459/0.75666', 'https://www1.sedecatastro.gob.es/CYCBienInmueble/OVCConCiud.aspx?del=43&mun=152&UrbRus=&RefC=43152A05300028&Apenom=&esBice=&RCBice1=&RCBice2=&DenoBice=&latitud=&longitud=&gradoslat=&minlat=&seglat=&gradoslon=&minlon=&seglon=&x=&y=&huso=&tipoCoordenadas=&ZV=NO', '311138', '4533919', '40.93459', '0.75666'], ['2', '', '169', 'Frauques', 'Mas Nou', '', 'Alf i Glynis Skinner [648 826 986]', '', '', '34648826986', \"'+34 648 826 986\", '', '', 'Pendiente contacto', '', '', '2 Mas Nou (Frauques)', '43152A05300034', 'https://www.instamaps.cat/visor.html?businessid=85fcdf4dd16c1608ef94765154ebc6c7&3D=false#18/40.93535/0.75026', 'https://www1.sedecatastro.gob.es/CYCBienInmueble/OVCConCiud.aspx?del=43&mun=152&UrbRus=&RefC=43152A05300034&Apenom=&esBice=&RCBice1=&RCBice2=&DenoBice=&latitud=&longitud=&gradoslat=&minlat=&seglat=&gradoslon=&minlon=&seglon=&x=&y=&huso=&tipoCoordenadas=&ZV=NO', '310602', '4534017', '40.93535', '0.75026'], ['3', '', '', 'Frauques', 'V. Ametlla', '', '', '', '', '', '', '', '', '', '', '', '3 V. Ametlla (Frauques)', '43152A05300020', 'https://www.instamaps.cat/visor.html?businessid=85fcdf4dd16c1608ef94765154ebc6c7&3D=false#18/40.936024/0.749382', 'https://www1.sedecatastro.gob.es/CYCBienInmueble/OVCConCiud.aspx?del=43&mun=152&UrbRus=&RefC=43152A05300020&Apenom=&esBice=&RCBice1=&RCBice2=&DenoBice=&latitud=&longitud=&gradoslat=&minlat=&seglat=&gradoslon=&minlon=&seglon=&x=&y=&huso=&tipoCoordenadas=&ZV=NO', '310528.73', '4534094.67', '40.936024', '0.749382'], ['4', '', '', 'Frauques', 'Torre de Frauques', '', '', '', '', '', '', '', '', '', '', '', '4 Torre de Frauques (Frauques)', '43152A05400172', 'https://www.instamaps.cat/visor.html?businessid=85fcdf4dd16c1608ef94765154ebc6c7&3D=false#18/40.93816/0.750793', 'https://www1.sedecatastro.gob.es/CYCBienInmueble/OVCConCiud.aspx?del=43&mun=152&UrbRus=&RefC=43152A05400172&Apenom=&esBice=&RCBice1=&RCBice2=&DenoBice=&latitud=&longitud=&gradoslat=&minlat=&seglat=&gradoslon=&minlon=&seglon=&x=&y=&huso=&tipoCoordenadas=&ZV=NO', '310655.18', '4534329.29', '40.93816', '0.750793'], ['5', '', '172', 'Frauques', 'Mas Maco', '', 'Mark [609 201 395]', '', '', '34609201395', \"'+34 609 201 395\", '', '', 'Pendiente contacto', '', 'Mike i Teresa Trask [660 647 123] C. Zoológico https://www.lavanguardia.com/local/terres-de-l-ebre/20161129/412263496917/tivissa-centro-zoologico-finca-mas-maco.html', '5 Mas Maco (Frauques)', '43152A05400170', 'https://www.instamaps.cat/visor.html?businessid=85fcdf4dd16c1608ef94765154ebc6c7&3D=false#18/40.93891/0.74973', 'https://www1.sedecatastro.gob.es/CYCBienInmueble/OVCConCiud.aspx?del=43&mun=152&UrbRus=&RefC=43152A05400170&Apenom=&esBice=&RCBice1=&RCBice2=&DenoBice=&latitud=&longitud=&gradoslat=&minlat=&seglat=&gradoslon=&minlon=&seglon=&x=&y=&huso=&tipoCoordenadas=&ZV=NO', '310567', '4534414', '40.93891', '0.74973'], ['6', '', '197', 'Frauques', 'Nevero', '', 'Familia Belga', '', '', '', '', '', '', 'Pendiente contacto', '', '', '6 Nevero (Frauques)', '43152A05400207', 'https://www.instamaps.cat/visor.html?businessid=85fcdf4dd16c1608ef94765154ebc6c7&3D=false#18/40.94031/0.74437', 'https://www1.sedecatastro.gob.es/CYCBienInmueble/OVCConCiud.aspx?del=43&mun=152&UrbRus=&RefC=43152A05400207&Apenom=&esBice=&RCBice1=&RCBice2=&DenoBice=&latitud=&longitud=&gradoslat=&minlat=&seglat=&gradoslon=&minlon=&seglon=&x=&y=&huso=&tipoCoordenadas=&ZV=NO', '310120', '4534581', '40.94031', '0.74437'], ['7', '', '159', 'Bassoles', 'Mas de La Tite', '', 'Daniel i Grabiela [687 067 569]', '', '', '34687067569', \"'+34 687 067 569\", 'Daniel', '', 'Pendiente contacto', '', '', '7 Mas de La Tite (Bassoles)', '43152A05200022', 'https://www.instamaps.cat/visor.html?businessid=85fcdf4dd16c1608ef94765154ebc6c7&3D=false#18/40.94129/0.75819', 'https://www1.sedecatastro.gob.es/CYCBienInmueble/OVCConCiud.aspx?del=43&mun=152&UrbRus=&RefC=43152A05200022&Apenom=&esBice=&RCBice1=&RCBice2=&DenoBice=&latitud=&longitud=&gradoslat=&minlat=&seglat=&gradoslon=&minlon=&seglon=&x=&y=&huso=&tipoCoordenadas=&ZV=NO', '311286', '4534660', '40.94129', '0.75819'], ['8', '', '193', 'Frauques', 'Masía Sargantana', '', 'Mar Lisson [626 332 915]', '5', 'Haya [650 052 571]', '34650052571', \"'+34 699 076 350\", 'Mar Lisson [699 076 350][626 332 915]', '', '699 076 350', 'estudio@marlisson.com', '', '8 Masía Sargantana (Frauques)', '43152A05400151', 'https://www.instamaps.cat/visor.html?businessid=85fcdf4dd16c1608ef94765154ebc6c7&3D=false#18/40.94274/0.74333', 'https://www1.sedecatastro.gob.es/CYCBienInmueble/OVCConCiud.aspx?del=43&mun=152&UrbRus=&RefC=43152A05400151&Apenom=&esBice=&RCBice1=&RCBice2=&DenoBice=&latitud=&longitud=&gradoslat=&minlat=&seglat=&gradoslon=&minlon=&seglon=&x=&y=&huso=&tipoCoordenadas=&ZV=NO', '310039', '4534853', '40.94274', '0.74333'], ['9', '', '169', 'Bassoles', 'Mas Kokopelli', '', 'Veronika Spahni [616 265 560]', '10', 'Veronika Spahni [616 265 560] Fernanda Scherrer [977 057 041]', '34616265560', '+34 676 755 421', 'Fernanda Scherrer [977 057 041]', '', 'Telèfon', 'veronika.spahni@yahoo.com', '', '9 Mas Kokopelli (Bassoles)', '43152A05200018', 'https://www.instamaps.cat/visor.html?businessid=85fcdf4dd16c1608ef94765154ebc6c7&3D=false#18/40.94341/0.75795', 'https://www1.sedecatastro.gob.es/CYCBienInmueble/OVCConCiud.aspx?del=43&mun=152&UrbRus=&RefC=43152A05200018&Apenom=&esBice=&RCBice1=&RCBice2=&DenoBice=&latitud=&longitud=&gradoslat=&minlat=&seglat=&gradoslon=&minlon=&seglon=&x=&y=&huso=&tipoCoordenadas=&ZV=NO', '311272', '4534895', '40.94341', '0.75795'], ['10', '', '', 'Bassoles', 'Mas de Carboner', '', '', '', '', '', '', '', '', '', '', '', '10 Mas de Carboner (Bassoles)', '43152A05200034', 'https://www.instamaps.cat/visor.html?businessid=85fcdf4dd16c1608ef94765154ebc6c7&3D=false#18/40.944228/0.763054', 'https://www1.sedecatastro.gob.es/CYCBienInmueble/OVCConCiud.aspx?del=43&mun=152&UrbRus=&RefC=43152A05200034&Apenom=&esBice=&RCBice1=&RCBice2=&DenoBice=&latitud=&longitud=&gradoslat=&minlat=&seglat=&gradoslon=&minlon=&seglon=&x=&y=&huso=&tipoCoordenadas=&ZV=NO', '311702.04', '4534976.58', '40.944228', '0.763054'], ['11', '', '170', 'Escaldabecs', 'Masia de J. y P.', 'Masia de Jesus y Pilar', 'Pilar Nolla [659 095 322]', '', '', '34659095322', \"'+34 659 095 322\", 'Jesús Bachiller [619 098 802]', '', '659 095 322', '', '', '11 Masia de J. y P. (Escaldabecs)', '43152A05400215', 'https://www.instamaps.cat/visor.html?businessid=85fcdf4dd16c1608ef94765154ebc6c7&3D=false#18/40.94412/0.75159', 'https://www1.sedecatastro.gob.es/CYCBienInmueble/OVCConCiud.aspx?del=43&mun=152&UrbRus=&RefC=43152A05400215&Apenom=&esBice=&RCBice1=&RCBice2=&DenoBice=&latitud=&longitud=&gradoslat=&minlat=&seglat=&gradoslon=&minlon=&seglon=&x=&y=&huso=&tipoCoordenadas=&ZV=NO', '310739', '4534988', '40.94412', '0.75159'], ['12', '', '187', 'Escaldabecs', 'Mas de S. La C.', 'Mas de Salvador La Clota', 'Inma Brull [669 738 191]', '', '', '34669738191', \"'+34 669 738 191\", 'Lluís Brull [659 141 053]', '', 'Telèfon', '', '', '12 Mas de S. La C. (Escaldabecs)', '43152A05400145', 'https://www.instamaps.cat/visor.html?businessid=85fcdf4dd16c1608ef94765154ebc6c7&3D=false#18/40.94442/0.74983', 'https://www1.sedecatastro.gob.es/CYCBienInmueble/OVCConCiud.aspx?del=43&mun=152&UrbRus=&RefC=43152A05400145&Apenom=&esBice=&RCBice1=&RCBice2=&DenoBice=&latitud=&longitud=&gradoslat=&minlat=&seglat=&gradoslon=&minlon=&seglon=&x=&y=&huso=&tipoCoordenadas=&ZV=NO', '310591', '4535025', '40.94442', '0.74983'], ['13', '', '', 'Bassoles', 'Mas de J.', '', 'Joan de Bassoles', '', '', '', '', '', '', '', '', \"Bassoles d'en Mig\", '13 Mas de J. (Bassoles)', '43152A05200020', 'https://www.instamaps.cat/visor.html?businessid=85fcdf4dd16c1608ef94765154ebc6c7&3D=false#18/40.944718/0.761376', 'https://www1.sedecatastro.gob.es/CYCBienInmueble/OVCConCiud.aspx?del=43&mun=152&UrbRus=&RefC=43152A05200020&Apenom=&esBice=&RCBice1=&RCBice2=&DenoBice=&latitud=&longitud=&gradoslat=&minlat=&seglat=&gradoslon=&minlon=&seglon=&x=&y=&huso=&tipoCoordenadas=&ZV=NO', '311564.56', '4535033.56', '40.944718', '0.761376'], ['14', '', '157', 'Escaldabecs', 'Ca la Moira', '', 'Marguerite Olivier [650 724 407]', '', '', '34650724407', \"'+34 650 724 407\", '', '', '650 724 407', '', 'El Senglar', '14 Ca la Moira (Escaldabecs)', '43152A05400146', 'https://www.instamaps.cat/visor.html?businessid=85fcdf4dd16c1608ef94765154ebc6c7&3D=false#18/40.94512/0.75282', 'https://www1.sedecatastro.gob.es/CYCBienInmueble/OVCConCiud.aspx?del=43&mun=152&UrbRus=&RefC=43152A05400146&Apenom=&esBice=&RCBice1=&RCBice2=&DenoBice=&latitud=&longitud=&gradoslat=&minlat=&seglat=&gradoslon=&minlon=&seglon=&x=&y=&huso=&tipoCoordenadas=&ZV=NO', '310845', '4535097', '40.94512', '0.75282'], ['15', '', '227', 'Plana Vella', 'Mas de Cap Blanc', '', 'Concha Fdez. de Pinedo [669 737 395]', '4', '', '34669737395', \"'+34 669 737 395\", '[948 390 045]', '', 'WhatsApp', 'cfdzpinedo@gmail.com', '', '15 Mas de Cap Blanc (Plana Vella)', '43152A05400109', 'https://www.instamaps.cat/visor.html?businessid=85fcdf4dd16c1608ef94765154ebc6c7&3D=false#18/40.94705/0.73509', 'https://www1.sedecatastro.gob.es/CYCBienInmueble/OVCConCiud.aspx?del=43&mun=152&UrbRus=&RefC=43152A05400109&Apenom=&esBice=&RCBice1=&RCBice2=&DenoBice=&latitud=&longitud=&gradoslat=&minlat=&seglat=&gradoslon=&minlon=&seglon=&x=&y=&huso=&tipoCoordenadas=&ZV=NO', '309358', '4535349', '40.94705', '0.73509'], ['16', '', '212', 'Plana Vella', 'Mas Ventura', '', 'Tomás Arenal [630 500 360]', '5', 'Txabi', '34630500360', \"'+34 630 500 360\", 'Txabi', '', 'WhatsApp', '', '', '16 Mas Ventura (Plana Vella)', '43152A05400049', 'https://www.instamaps.cat/visor.html?businessid=85fcdf4dd16c1608ef94765154ebc6c7&3D=false#18/40.94779/0.73107', 'https://www1.sedecatastro.gob.es/CYCBienInmueble/OVCConCiud.aspx?del=43&mun=152&UrbRus=&RefC=43152A05400049&Apenom=&esBice=&RCBice1=&RCBice2=&DenoBice=&latitud=&longitud=&gradoslat=&minlat=&seglat=&gradoslon=&minlon=&seglon=&x=&y=&huso=&tipoCoordenadas=&ZV=NO', '309022', '4535440', '40.94779', '0.73107'], ['17', '', '213', 'Plana Vella', 'Salvadora', '', 'Yvonne Izagirre [629 351 926]', '12', 'Christian Hasse [977 268 231]', '34629351926', \"'+34 629 351 926\", 'Christian Hasse [977 268 231]', '', 'WhatsApp', 'y.izaguirrelacoste@gmail.com', '', '17 Salvadora (Plana Vella)', '43152A05400054', 'https://www.instamaps.cat/visor.html?businessid=85fcdf4dd16c1608ef94765154ebc6c7&3D=false#18/40.94807/0.73233', 'https://www1.sedecatastro.gob.es/CYCBienInmueble/OVCConCiud.aspx?del=43&mun=152&UrbRus=&RefC=43152A05400054&Apenom=&esBice=&RCBice1=&RCBice2=&DenoBice=&latitud=&longitud=&gradoslat=&minlat=&seglat=&gradoslon=&minlon=&seglon=&x=&y=&huso=&tipoCoordenadas=&ZV=NO', '309129', '4535469', '40.94807', '0.73233'], ['18', '', '173', 'Plana Vella', 'Mas de Mingall', '', 'Michel Dufrasnes [697 961 074]', '12', '', '34697961074', \"'+34 697 961 074\", 'Barbara [697974063]. Fijo [977 092 318]', '', 'WhatsApp', 'hello@masdemingall.com', 'Com. Bed & Breakfast', '18 Mas de Mingall (Plana Vella)', '000541300CF00A', 'https://www.instamaps.cat/visor.html?businessid=85fcdf4dd16c1608ef94765154ebc6c7&3D=false#18/40.94874/0.74996', 'https://www1.sedecatastro.gob.es/CYCBienInmueble/OVCConCiud.aspx?del=43&mun=152&UrbRus=&RefC=000541300CF00A&Apenom=&esBice=&RCBice1=&RCBice2=&DenoBice=&latitud=&longitud=&gradoslat=&minlat=&seglat=&gradoslon=&minlon=&seglon=&x=&y=&huso=&tipoCoordenadas=&ZV=NO', '310615', '4535504', '40.94874', '0.74996'], ['19', '', '172', 'Plana Vella', 'Mas T. y A.', 'Mas Toful y Antonia', 'Fabien [+33 652 434 581]', '', '', '34977493379', \"'+34 977 493 379\", 'Familia de Patrick [977 493 379]', '', 'WhatsApp', '', '', '19 Mas T. y A. (Plana Vella)', '43152A05400133', 'https://www.instamaps.cat/visor.html?businessid=85fcdf4dd16c1608ef94765154ebc6c7&3D=false#18/40.9496/0.74713', 'https://www1.sedecatastro.gob.es/CYCBienInmueble/OVCConCiud.aspx?del=43&mun=152&UrbRus=&RefC=43152A05400133&Apenom=&esBice=&RCBice1=&RCBice2=&DenoBice=&latitud=&longitud=&gradoslat=&minlat=&seglat=&gradoslon=&minlon=&seglon=&x=&y=&huso=&tipoCoordenadas=&ZV=NO', '310379', '4535606', '40.9496', '0.74713'], ['20', '', '227', 'Plana Vella', 'Mas de Catan', '', 'Julio Villar [646 710 672]', '8', 'Haya [650 052 571]', '34646710672', \"'+34 646 710 672\", '[943 430 975]', '', 'Telèfon', 'deportesada@gmail.com', '', '20 Mas de Catan (Plana Vella)', '43152A05400040', 'https://www.instamaps.cat/visor.html?businessid=85fcdf4dd16c1608ef94765154ebc6c7&3D=false#18/40.94927/0.72595', 'https://www1.sedecatastro.gob.es/CYCBienInmueble/OVCConCiud.aspx?del=43&mun=152&UrbRus=&RefC=43152A05400040&Apenom=&esBice=&RCBice1=&RCBice2=&DenoBice=&latitud=&longitud=&gradoslat=&minlat=&seglat=&gradoslon=&minlon=&seglon=&x=&y=&huso=&tipoCoordenadas=&ZV=NO', '308595', '4535616', '40.94927', '0.72595'], ['21', '', '182', 'Escaldabecs', 'Casa E.', 'Casa Elies', 'Elies [627 612 969]', '', '', '34627612969', '', 'Grupo Inmobiliario Meridiana', '', 'WhatsApp', '', '6 masets', '21 Casa E. (Escaldabecs)', '43152A05200002', 'https://www.instamaps.cat/visor.html?businessid=85fcdf4dd16c1608ef94765154ebc6c7&3D=false#18/40.94995/0.75566', 'https://www1.sedecatastro.gob.es/CYCBienInmueble/OVCConCiud.aspx?del=43&mun=152&UrbRus=&RefC=43152A05200002&Apenom=&esBice=&RCBice1=&RCBice2=&DenoBice=&latitud=&longitud=&gradoslat=&minlat=&seglat=&gradoslon=&minlon=&seglon=&x=&y=&huso=&tipoCoordenadas=&ZV=NO', '311098', '4535627', '40.94995', '0.75566'], ['22', '', '220', 'Plana Vella', 'Sokoa', '', 'Ariñe Azigue San Emeterio [600 633 920]', '3', '', '34600633920', \"'+34 646 046 228\", '[943 430 975]', '', 'WhatsApp', '', '', '22 Sokoa (Plana Vella)', '43152A05400044', 'https://www.instamaps.cat/visor.html?businessid=85fcdf4dd16c1608ef94765154ebc6c7&3D=false#18/40.94954/0.72752', 'https://www1.sedecatastro.gob.es/CYCBienInmueble/OVCConCiud.aspx?del=43&mun=152&UrbRus=&RefC=43152A05400044&Apenom=&esBice=&RCBice1=&RCBice2=&DenoBice=&latitud=&longitud=&gradoslat=&minlat=&seglat=&gradoslon=&minlon=&seglon=&x=&y=&huso=&tipoCoordenadas=&ZV=NO', '308728', '4535642', '40.94954', '0.72752'], ['23', '', '209', 'Plana Vella', 'Mas de Palliser', '', 'Pepe Ribés [670 284 587]', '3', '', '34670284587', \"'+34 670 284 587\", '', '', 'WhatsApp', 'pprbs43@yahoo.com', '', '23 Mas de Palliser (Plana Vella)', '43152A05400059', 'https://www.instamaps.cat/visor.html?businessid=85fcdf4dd16c1608ef94765154ebc6c7&3D=false#18/40.95005/0.72922', 'https://www1.sedecatastro.gob.es/CYCBienInmueble/OVCConCiud.aspx?del=43&mun=152&UrbRus=&RefC=43152A05400059&Apenom=&esBice=&RCBice1=&RCBice2=&DenoBice=&latitud=&longitud=&gradoslat=&minlat=&seglat=&gradoslon=&minlon=&seglon=&x=&y=&huso=&tipoCoordenadas=&ZV=NO', '308873', '4535695', '40.95005', '0.72922'], ['24', '', '202', 'Plana Vella', 'Mas del Porró', '', 'Rosemary Sesma [608 576 624]', '4', '', '34608576624', \"'+34 608 576 624\", 'Juan Abrisketa [681254659]. [943425569]', '', 'WhatsApp', 'jiaga@hotmail.es', '', '24 Mas del Porró (Plana Vella)', '43152A05400058', 'https://www.instamaps.cat/visor.html?businessid=85fcdf4dd16c1608ef94765154ebc6c7&3D=false#18/40.95017/0.7313', 'https://www1.sedecatastro.gob.es/CYCBienInmueble/OVCConCiud.aspx?del=43&mun=152&UrbRus=&RefC=43152A05400058&Apenom=&esBice=&RCBice1=&RCBice2=&DenoBice=&latitud=&longitud=&gradoslat=&minlat=&seglat=&gradoslon=&minlon=&seglon=&x=&y=&huso=&tipoCoordenadas=&ZV=NO', '309048', '4535704', '40.95017', '0.7313'], ['25', '', '179', 'Escaldabecs', \"Mas D'en Llucio\", '', 'Wai Lin Tse [608 698 190]', '6', '', '34608698190', \"'+34 608 698 190\", 'Klas [620452480]', '', '608 698 190', 'lin@waïlintse.com', '', \"25 Mas D'en Llucio (Escaldabecs)\", '43152A05500076', 'https://www.instamaps.cat/visor.html?businessid=85fcdf4dd16c1608ef94765154ebc6c7&3D=false#18/40.95072/0.75131', 'https://www1.sedecatastro.gob.es/CYCBienInmueble/OVCConCiud.aspx?del=43&mun=152&UrbRus=&RefC=43152A05500076&Apenom=&esBice=&RCBice1=&RCBice2=&DenoBice=&latitud=&longitud=&gradoslat=&minlat=&seglat=&gradoslon=&minlon=&seglon=&x=&y=&huso=&tipoCoordenadas=&ZV=NO', '310734', '4535721', '40.95072', '0.75131'], ['26', '', '196', 'Plana Vella', 'Mas Caliu', '', 'Blanki Ros [620 342 633]', '12', 'Eki Elosegi [609 82 86 12]', '34609828612', \"'+34 620 342 633\", 'Blanki Ros [620 342 633]', '', 'WhatsApp', 'blankiros@yahoo.es', '', '26 Mas Caliu (Plana Vella)', '43152A05400104', 'https://www.instamaps.cat/visor.html?businessid=85fcdf4dd16c1608ef94765154ebc6c7&3D=false#18/40.95077/0.73403', 'https://www1.sedecatastro.gob.es/CYCBienInmueble/OVCConCiud.aspx?del=43&mun=152&UrbRus=&RefC=43152A05400104&Apenom=&esBice=&RCBice1=&RCBice2=&DenoBice=&latitud=&longitud=&gradoslat=&minlat=&seglat=&gradoslon=&minlon=&seglon=&x=&y=&huso=&tipoCoordenadas=&ZV=NO', '309280', '4535765', '40.95077', '0.73403'], ['27', '', '182', 'Escaldabecs', 'Mas de Rabasseta de Dalt', 'Eugeni el Carboner', 'Sue Gilbert [+44 795 171 4897]', '', 'Tin [+44 7712820028]', '447951714897', \"'+44 795 171 4897\", '', '', '44 795 171 4897', '', '', '27 Mas de Rabasseta de Dalt (Escaldabecs)', '43152A05500074', 'https://www.instamaps.cat/visor.html?businessid=85fcdf4dd16c1608ef94765154ebc6c7&3D=false#18/40.95131/0.75015', 'https://www1.sedecatastro.gob.es/CYCBienInmueble/OVCConCiud.aspx?del=43&mun=152&UrbRus=&RefC=43152A05500074&Apenom=&esBice=&RCBice1=&RCBice2=&DenoBice=&latitud=&longitud=&gradoslat=&minlat=&seglat=&gradoslon=&minlon=&seglon=&x=&y=&huso=&tipoCoordenadas=&ZV=NO', '310638', '4535789', '40.95131', '0.75015'], ['28', '', '180', 'Escaldabecs', \"Mas D'en Llucio ext.\", '', 'Klas [620 452 480]', '', '', '34620452480', '', '', '', '', '', '', \"28 Mas D'en Llucio ext. (Escaldabecs)\", '43152A05500076', 'https://www.instamaps.cat/visor.html?businessid=85fcdf4dd16c1608ef94765154ebc6c7&3D=false#18/40.95158/0.75122', 'https://www1.sedecatastro.gob.es/CYCBienInmueble/OVCConCiud.aspx?del=43&mun=152&UrbRus=&RefC=43152A05500076&Apenom=&esBice=&RCBice1=&RCBice2=&DenoBice=&latitud=&longitud=&gradoslat=&minlat=&seglat=&gradoslon=&minlon=&seglon=&x=&y=&huso=&tipoCoordenadas=&ZV=NO', '310728.88', '4535817.12', '40.95158', '0.75122'], ['29', '', '181', 'Escaldabecs', 'Mas de P.', '', 'Paco [699 254 274]', '', '', '34699254274', \"'+34 699 254 274\", '', '', '699 254 274', '', 'PTE depurar', '29 Mas de P. (Escaldabecs)', '43152A05500075', 'https://www.instamaps.cat/visor.html?businessid=85fcdf4dd16c1608ef94765154ebc6c7&3D=false#18/40.9521/0.7515', 'https://www1.sedecatastro.gob.es/CYCBienInmueble/OVCConCiud.aspx?del=43&mun=152&UrbRus=&RefC=43152A05500075&Apenom=&esBice=&RCBice1=&RCBice2=&DenoBice=&latitud=&longitud=&gradoslat=&minlat=&seglat=&gradoslon=&minlon=&seglon=&x=&y=&huso=&tipoCoordenadas=&ZV=NO', '310753.96', '4535874.24', '40.9521', '0.7515'], ['30', '', '220', 'Plana Vella', 'El Tros', '', 'Luís Hilos [646 046 228]', '3', '', '34646046228', \"'+34 600 633 920\", 'Luis y Charo [948 125 656]', '', 'WhatsApp', 'luisycharo@yahoo.es', '', '30 El Tros (Plana Vella)', '43152A05400092', 'https://www.instamaps.cat/visor.html?businessid=85fcdf4dd16c1608ef94765154ebc6c7&3D=false#18/40.95168/0.72663', 'https://www1.sedecatastro.gob.es/CYCBienInmueble/OVCConCiud.aspx?del=43&mun=152&UrbRus=&RefC=43152A05400092&Apenom=&esBice=&RCBice1=&RCBice2=&DenoBice=&latitud=&longitud=&gradoslat=&minlat=&seglat=&gradoslon=&minlon=&seglon=&x=&y=&huso=&tipoCoordenadas=&ZV=NO', '308659', '4535882', '40.95168', '0.72663'], ['31', '', '178', 'Plana Vella', 'Masía de Mingo Gervasi', '', 'Vera i Kees Van der Geer [647 245 417]', '', '', '34647245417', \"'+34 647 245 417\", 'Cornelis van der Geer [977 090 487][977 090 507]', '', 'Telèfon', 'ceisvandergeer@gmail.com', '', '31 Masía de Mingo Gervasi (Plana Vella)', '43152A05400119', 'https://www.instamaps.cat/visor.html?businessid=85fcdf4dd16c1608ef94765154ebc6c7&3D=false#18/40.95202/0.74221', 'https://www1.sedecatastro.gob.es/CYCBienInmueble/OVCConCiud.aspx?del=43&mun=152&UrbRus=&RefC=43152A05400119&Apenom=&esBice=&RCBice1=&RCBice2=&DenoBice=&latitud=&longitud=&gradoslat=&minlat=&seglat=&gradoslon=&minlon=&seglon=&x=&y=&huso=&tipoCoordenadas=&ZV=NO', '309972', '4535885', '40.95202', '0.74221'], ['32', '', '209', 'Plana Vella', 'Más del Fuseller', '', 'Antonio Arenal [688 901 616]', '6', '', '34688901616', \"'+34 688 901 616\", 'Marisol Gorraiz [636 416 976]', '', 'WhatsApp', '', '', '32 Más del Fuseller (Plana Vella)', '43152A05400091', 'https://www.instamaps.cat/visor.html?businessid=85fcdf4dd16c1608ef94765154ebc6c7&3D=false#18/40.95197/0.73178', 'https://www1.sedecatastro.gob.es/CYCBienInmueble/OVCConCiud.aspx?del=43&mun=152&UrbRus=&RefC=43152A05400091&Apenom=&esBice=&RCBice1=&RCBice2=&DenoBice=&latitud=&longitud=&gradoslat=&minlat=&seglat=&gradoslon=&minlon=&seglon=&x=&y=&huso=&tipoCoordenadas=&ZV=NO', '309094', '4535903', '40.95197', '0.73178'], ['33', '', '185', 'Plana Vella', 'Figueretes', '', 'Imanol Gonzalez [619 277 366]', '8', 'Jonan', '34619277366', \"'+34 660 995 643\", '', '', 'WhatsApp', '', '', '33 Figueretes (Plana Vella)', '43152A05400117', 'https://www.instamaps.cat/visor.html?businessid=85fcdf4dd16c1608ef94765154ebc6c7&3D=false#18/40.95269/0.73932', 'https://www1.sedecatastro.gob.es/CYCBienInmueble/OVCConCiud.aspx?del=43&mun=152&UrbRus=&RefC=43152A05400117&Apenom=&esBice=&RCBice1=&RCBice2=&DenoBice=&latitud=&longitud=&gradoslat=&minlat=&seglat=&gradoslon=&minlon=&seglon=&x=&y=&huso=&tipoCoordenadas=&ZV=NO', '309730', '4535966', '40.95269', '0.73932'], ['34', '', '203', 'Plana Vella', 'Mas Saladié', '', 'Antxon Elosegi [663 926 783]', '3', '', '34600330416', \"'+34 663 926 783\", 'Urko [600330416]', '', 'WhatsApp', 'uelosegi@gmail.com', '', '34 Mas Saladié (Plana Vella)', '43152A05400086', 'https://www.instamaps.cat/visor.html?businessid=85fcdf4dd16c1608ef94765154ebc6c7&3D=false#18/40.9528/0.73413', 'https://www1.sedecatastro.gob.es/CYCBienInmueble/OVCConCiud.aspx?del=43&mun=152&UrbRus=&RefC=43152A05400086&Apenom=&esBice=&RCBice1=&RCBice2=&DenoBice=&latitud=&longitud=&gradoslat=&minlat=&seglat=&gradoslon=&minlon=&seglon=&x=&y=&huso=&tipoCoordenadas=&ZV=NO', '309294', '4535990', '40.9528', '0.73413'], ['35', '', '210', 'La Clota', 'Mas de La Clota', '', 'David y Sue Greaves [689 198 094]', '', '', '', \"'+44 771 282 0028\", 'Dave i Sue [661 592 748][977 057 031][+44 771 282 0028]', '', 'Telèfon', '', '', '35 Mas de La Clota (La Clota)', '43152A06100081', 'https://www.instamaps.cat/visor.html?businessid=85fcdf4dd16c1608ef94765154ebc6c7&3D=false#18/40.95448/0.76083', 'https://www1.sedecatastro.gob.es/CYCBienInmueble/OVCConCiud.aspx?del=43&mun=152&UrbRus=&RefC=43152A06100081&Apenom=&esBice=&RCBice1=&RCBice2=&DenoBice=&latitud=&longitud=&gradoslat=&minlat=&seglat=&gradoslon=&minlon=&seglon=&x=&y=&huso=&tipoCoordenadas=&ZV=NO', '311546', '4536118', '40.95448', '0.76083'], ['36', '', '187', 'Escaldabecs', 'Masía de A. B.', '', 'Adriá Bomou [642 988 087]', '', '', '', '+34 642 988 087', '', '', 'WhatsApp', '', '', '36 Masía de A. B. (Escaldabecs)', '43152A06000037', 'https://www.instamaps.cat/visor.html?businessid=85fcdf4dd16c1608ef94765154ebc6c7&3D=false#18/40.95486/0.75163', 'https://www1.sedecatastro.gob.es/CYCBienInmueble/OVCConCiud.aspx?del=43&mun=152&UrbRus=&RefC=43152A06000037&Apenom=&esBice=&RCBice1=&RCBice2=&DenoBice=&latitud=&longitud=&gradoslat=&minlat=&seglat=&gradoslon=&minlon=&seglon=&x=&y=&huso=&tipoCoordenadas=&ZV=NO', '310773', '4536180', '40.95486', '0.75163'], ['37', '', '191', 'Plana del Llorell', 'Mas de Rabassó', '', 'Joan Pere Vernet [609 133 556]', '12', '', '34609133556', \"'+34 609 133 556\", 'Ferran [651021416]. Tivissa [977 417 380]', '', 'WhatsApp', '', '', '37 Mas de Rabassó (Plana del Llorell)', '43152A05500060', 'https://www.instamaps.cat/visor.html?businessid=85fcdf4dd16c1608ef94765154ebc6c7&3D=false#18/40.95607/0.74121', 'https://www1.sedecatastro.gob.es/CYCBienInmueble/OVCConCiud.aspx?del=43&mun=152&UrbRus=&RefC=43152A05500060&Apenom=&esBice=&RCBice1=&RCBice2=&DenoBice=&latitud=&longitud=&gradoslat=&minlat=&seglat=&gradoslon=&minlon=&seglon=&x=&y=&huso=&tipoCoordenadas=&ZV=NO', '309899', '4536337', '40.95607', '0.74121'], ['38', '', '202', 'Plana del Llorell', 'El Masetà', '', 'Ernst August Haseman [+49\\xa0171\\xa08368386]', '', 'Hendrik [+31 646 422 422]', '31646422422', '+31 646 422 422', 'Marushka', '', 'Telèfon', '', '', '38 El Masetà (Plana del Llorell)', '43152A05400075', 'https://www.instamaps.cat/visor.html?businessid=85fcdf4dd16c1608ef94765154ebc6c7&3D=false#18/40.95653/0.73403', 'https://www1.sedecatastro.gob.es/CYCBienInmueble/OVCConCiud.aspx?del=43&mun=152&UrbRus=&RefC=43152A05400075&Apenom=&esBice=&RCBice1=&RCBice2=&DenoBice=&latitud=&longitud=&gradoslat=&minlat=&seglat=&gradoslon=&minlon=&seglon=&x=&y=&huso=&tipoCoordenadas=&ZV=NO', '309296', '4536404', '40.95653', '0.73403'], ['39', '', '228', 'Plana del Llorell', 'Mas T.', 'Mas Tatay', 'Helena Tatay [609 894 164]', '', '', '34609894164', \"'+34 609 894 164\", 'Maria Tatay [673511091]', '', 'WhatsApp', 'helenatatay@gmail.com', '', '39 Mas T. (Plana del Llorell)', '43152A05400027', 'https://www.instamaps.cat/visor.html?businessid=85fcdf4dd16c1608ef94765154ebc6c7&3D=false#18/40.95675/0.72428', 'https://www1.sedecatastro.gob.es/CYCBienInmueble/OVCConCiud.aspx?del=43&mun=152&UrbRus=&RefC=43152A05400027&Apenom=&esBice=&RCBice1=&RCBice2=&DenoBice=&latitud=&longitud=&gradoslat=&minlat=&seglat=&gradoslon=&minlon=&seglon=&x=&y=&huso=&tipoCoordenadas=&ZV=NO', '308476', '4536450', '40.95675', '0.72428'], ['40', '', '213', 'Plana del Llorell', 'Mas Monjo', '', 'Judith Knappett [+44 797 753 4850]', '', '', '447977534850', \"'+44 797 753 4850\", 'Peter Knappett', '', 'WhatsApp', 'knappsp@tinternet.com', '', '40 Mas Monjo (Plana del Llorell)', '43152A05400063', 'https://www.instamaps.cat/visor.html?businessid=85fcdf4dd16c1608ef94765154ebc6c7&3D=false#18/40.95702/0.72769', 'https://www1.sedecatastro.gob.es/CYCBienInmueble/OVCConCiud.aspx?del=43&mun=152&UrbRus=&RefC=43152A05400063&Apenom=&esBice=&RCBice1=&RCBice2=&DenoBice=&latitud=&longitud=&gradoslat=&minlat=&seglat=&gradoslon=&minlon=&seglon=&x=&y=&huso=&tipoCoordenadas=&ZV=NO', '308764', '4536472', '40.95702', '0.72769'], ['41', '', '212', 'Plana del Llorell', 'Masia H. & N.', 'Masia Horst & Norbert', 'Llibert [671 688 522]', '12', '', '34671688522', '', '', '', 'WhatsApp', '', 'Hans murió hace un año y no sabemos si viven los dueños del terreno.', '41 Masia H. & N. (Plana del Llorell)', '43152A05400067', 'https://www.instamaps.cat/visor.html?businessid=85fcdf4dd16c1608ef94765154ebc6c7&3D=false#18/40.95751/0.73055', 'https://www1.sedecatastro.gob.es/CYCBienInmueble/OVCConCiud.aspx?del=43&mun=152&UrbRus=&RefC=43152A05400067&Apenom=&esBice=&RCBice1=&RCBice2=&DenoBice=&latitud=&longitud=&gradoslat=&minlat=&seglat=&gradoslon=&minlon=&seglon=&x=&y=&huso=&tipoCoordenadas=&ZV=NO', '309006', '4536520', '40.95751', '0.73055'], ['42', '', '200', 'Escaldabecs', 'Mas de la Rabasseta', '', 'Paco [699 254 274]', '', '', '34699254274', \"'+34 699 254 274\", '', '699 254 274', '', '', 'PTE depurar', '42 Mas de la Rabasseta (Escaldabecs)', '43152A05500097', 'https://www.instamaps.cat/visor.html?businessid=85fcdf4dd16c1608ef94765154ebc6c7&3D=false#18/40.9579/0.7489', 'https://www1.sedecatastro.gob.es/CYCBienInmueble/OVCConCiud.aspx?del=43&mun=152&UrbRus=&RefC=43152A05500097&Apenom=&esBice=&RCBice1=&RCBice2=&DenoBice=&latitud=&longitud=&gradoslat=&minlat=&seglat=&gradoslon=&minlon=&seglon=&x=&y=&huso=&tipoCoordenadas=&ZV=NO', '310552', '4536524', '40.9579', '0.7489'], ['43', '', '199', 'Plana del Llorell', 'Mas de Guitarres', '', 'Jordi Quintana [652 962 729]', '12', '', '34652962729', \"'+34 652 962 729\", 'Carmen Jardí [639 504 796]', '', 'WhatsApp', 'estellidia@hotmail.com', '', '43 Mas de Guitarres (Plana del Llorell)', '43152A05500055', 'https://www.instamaps.cat/visor.html?businessid=85fcdf4dd16c1608ef94765154ebc6c7&3D=false#18/40.95788/0.73896', 'https://www1.sedecatastro.gob.es/CYCBienInmueble/OVCConCiud.aspx?del=43&mun=152&UrbRus=&RefC=43152A05500055&Apenom=&esBice=&RCBice1=&RCBice2=&DenoBice=&latitud=&longitud=&gradoslat=&minlat=&seglat=&gradoslon=&minlon=&seglon=&x=&y=&huso=&tipoCoordenadas=&ZV=NO', '309715', '4536543', '40.95788', '0.73896'], ['44', '', '212', 'Plana del Llorell', 'Masía Llorell', '', 'Jaume Vernet [699 495 581]', '12', '', '34699495581', \"'+34 699 495 581\", 'Rabasó Tivisa [977 417 392]', '', 'Telèfon', '', '', '44 Masía Llorell (Plana del Llorell)', '43152A05400013', 'https://www.instamaps.cat/visor.html?businessid=85fcdf4dd16c1608ef94765154ebc6c7&3D=false#18/40.95764/0.71858', 'https://www1.sedecatastro.gob.es/CYCBienInmueble/OVCConCiud.aspx?del=43&mun=152&UrbRus=&RefC=43152A05400013&Apenom=&esBice=&RCBice1=&RCBice2=&DenoBice=&latitud=&longitud=&gradoslat=&minlat=&seglat=&gradoslon=&minlon=&seglon=&x=&y=&huso=&tipoCoordenadas=&ZV=NO', '307999', '4536561', '40.95764', '0.71858'], ['45', '', '201', 'Plana del Llorell', 'Corral de Guitarres', '', 'Carmen Jardí [639 504 796]', '12', 'Jordi Quintana [652 962 729]', '34639504796', \"'+34 639 504 796\", '[977 265 059] Jordi Quintana [652 962 729]', '', 'Telèfon', '', '', '45 Corral de Guitarres (Plana del Llorell)', '43152A05500055', 'https://www.instamaps.cat/visor.html?businessid=85fcdf4dd16c1608ef94765154ebc6c7&3D=false#18/40.95811/0.73919', 'https://www1.sedecatastro.gob.es/CYCBienInmueble/OVCConCiud.aspx?del=43&mun=152&UrbRus=&RefC=43152A05500055&Apenom=&esBice=&RCBice1=&RCBice2=&DenoBice=&latitud=&longitud=&gradoslat=&minlat=&seglat=&gradoslon=&minlon=&seglon=&x=&y=&huso=&tipoCoordenadas=&ZV=NO', '309735', '4536568', '40.95811', '0.73919'], ['46', '', '221', 'Plana del Llorell', 'Raboseta', '', 'Josep Sabaté [977 418 074]', '', '', '34977418074', \"'+34 977 418 074\", '', '', 'Pendiente contacto', '', '', '46 Raboseta (Plana del Llorell)', '43152A05400023', 'https://www.instamaps.cat/visor.html?businessid=85fcdf4dd16c1608ef94765154ebc6c7&3D=false#18/40.95814/0.72465', 'https://www1.sedecatastro.gob.es/CYCBienInmueble/OVCConCiud.aspx?del=43&mun=152&UrbRus=&RefC=43152A05400023&Apenom=&esBice=&RCBice1=&RCBice2=&DenoBice=&latitud=&longitud=&gradoslat=&minlat=&seglat=&gradoslon=&minlon=&seglon=&x=&y=&huso=&tipoCoordenadas=&ZV=NO', '308511', '4536603', '40.95814', '0.72465'], ['47', '', '214', 'Plana del Llorell', 'Mas Gurtu', '', 'Rakel Esteban [656 701 692]', '6', '', '34656701692', \"'+34 656 701 692\", 'Mikel Gurtubai [656 784 406]', '', 'WhatsApp', 'rakeligone@hotmail.com . mgurtubai@euskalnet.net', '', '47 Mas Gurtu (Plana del Llorell)', '43152A05500015', 'https://www.instamaps.cat/visor.html?businessid=85fcdf4dd16c1608ef94765154ebc6c7&3D=false#18/40.95847/0.73224', 'https://www1.sedecatastro.gob.es/CYCBienInmueble/OVCConCiud.aspx?del=43&mun=152&UrbRus=&RefC=43152A05500015&Apenom=&esBice=&RCBice1=&RCBice2=&DenoBice=&latitud=&longitud=&gradoslat=&minlat=&seglat=&gradoslon=&minlon=&seglon=&x=&y=&huso=&tipoCoordenadas=&ZV=NO', '309151', '4536623', '40.95847', '0.73224'], ['48', '', '218', 'Plana del Llorell', 'Mas Pla', '', 'Patxi Fuertes [628 057 513]', '12', '', '34628057513', \"'+34 628 057 513\", 'Maialen [689791242]', '', 'WhatsApp', 'patxibw@yahoo.es', '', '48 Mas Pla (Plana del Llorell)', '43152A05500021', 'https://www.instamaps.cat/visor.html?businessid=85fcdf4dd16c1608ef94765154ebc6c7&3D=false#18/40.95886/0.728', 'https://www1.sedecatastro.gob.es/CYCBienInmueble/OVCConCiud.aspx?del=43&mun=152&UrbRus=&RefC=43152A05500021&Apenom=&esBice=&RCBice1=&RCBice2=&DenoBice=&latitud=&longitud=&gradoslat=&minlat=&seglat=&gradoslon=&minlon=&seglon=&x=&y=&huso=&tipoCoordenadas=&ZV=NO', '308795', '4536676', '40.95886', '0.728'], ['49', '', '222', 'Plana del Llorell', \"Mas d'en Llorell\", '', 'Gilles Marlet [+32 473 536 832]', '', 'Joanne Boulanger [32473536832]', '', \"'+34 977 457 114\", 'Juanita y Joaquim Benaiges [977 457 114] [616 280 180]', '', 'Telèfon', '', 'Tortosa', \"49 Mas d'en Llorell (Plana del Llorell)\", '43152A05500034', 'https://www.instamaps.cat/visor.html?businessid=85fcdf4dd16c1608ef94765154ebc6c7&3D=false#18/40.95899/0.72482', 'https://www1.sedecatastro.gob.es/CYCBienInmueble/OVCConCiud.aspx?del=43&mun=152&UrbRus=&RefC=43152A05500034&Apenom=&esBice=&RCBice1=&RCBice2=&DenoBice=&latitud=&longitud=&gradoslat=&minlat=&seglat=&gradoslon=&minlon=&seglon=&x=&y=&huso=&tipoCoordenadas=&ZV=NO', '308528', '4536697', '40.95899', '0.72482'], ['50', '', '218', 'Plana del Llorell', 'Mas de G. & M.', '', 'Gina Holdsworth [631 756 124]', '', '', '34631756124', \"'+34 631 756 124\", 'Mel [+44 795 107 384]', '', 'WhatsApp', '', '', '50 Mas de G. & M. (Plana del Llorell)', '43152A05500002', 'https://www.instamaps.cat/visor.html?businessid=85fcdf4dd16c1608ef94765154ebc6c7&3D=false#18/40.95947/0.73691', 'https://www1.sedecatastro.gob.es/CYCBienInmueble/OVCConCiud.aspx?del=43&mun=152&UrbRus=&RefC=43152A05500002&Apenom=&esBice=&RCBice1=&RCBice2=&DenoBice=&latitud=&longitud=&gradoslat=&minlat=&seglat=&gradoslon=&minlon=&seglon=&x=&y=&huso=&tipoCoordenadas=&ZV=NO', '309547', '4536724', '40.95947', '0.73691'], ['51', '', '223', 'Plana del Llorell', 'Mas de la Tecla', '', 'Sara Alonso [639 017 729]', '', '', '', \"'+34 639 017 729\", 'Igancio Preciado [676 468 114]', '', 'WhatsApp', '', '', '51 Mas de la Tecla (Plana del Llorell)', '43152A05500012', 'https://www.instamaps.cat/visor.html?businessid=85fcdf4dd16c1608ef94765154ebc6c7&3D=false#18/40.95958/0.73455', 'https://www1.sedecatastro.gob.es/CYCBienInmueble/OVCConCiud.aspx?del=43&mun=152&UrbRus=&RefC=43152A05500012&Apenom=&esBice=&RCBice1=&RCBice2=&DenoBice=&latitud=&longitud=&gradoslat=&minlat=&seglat=&gradoslon=&minlon=&seglon=&x=&y=&huso=&tipoCoordenadas=&ZV=NO', '309349', '4536742', '40.95958', '0.73455'], ['52', '', '217', 'Plana del Llorell', 'Mas La Tana', '', 'Charo Orcoyen [638 485 094]', '12', 'Adriana Sanz [630 682 769] Joris Debo [638865187]', '34630682769', \"'+34 638 485 094\", 'Charo Orcoyen [638 485 094]', '', 'WhatsApp', 'urbasa13@telefonica.net', 'Antic Mas de Massariu', '52 Mas La Tana (Plana del Llorell)', '43152A05500099', 'https://www.instamaps.cat/visor.html?businessid=85fcdf4dd16c1608ef94765154ebc6c7&3D=false#18/40.96029/0.73812', 'https://www1.sedecatastro.gob.es/CYCBienInmueble/OVCConCiud.aspx?del=43&mun=152&UrbRus=&RefC=43152A05500099&Apenom=&esBice=&RCBice1=&RCBice2=&DenoBice=&latitud=&longitud=&gradoslat=&minlat=&seglat=&gradoslon=&minlon=&seglon=&x=&y=&huso=&tipoCoordenadas=&ZV=NO', '309651', '4536813', '40.96029', '0.73812'], ['53', '', '227', 'Plana del Llorell', 'Can Codazzi', '', 'Rosó Cusó [637 775 738] i Jordi Codina', '6', '', '34637775738', \"'+34 637 775 738\", '[610 243 139] Marta Andreu [687 568 578] i Marco Palazzi', '', 'WhatsApp', '', '', '53 Can Codazzi (Plana del Llorell)', '43152A05500024', 'https://www.instamaps.cat/visor.html?businessid=85fcdf4dd16c1608ef94765154ebc6c7&3D=false#18/40.96009/0.72654', 'https://www1.sedecatastro.gob.es/CYCBienInmueble/OVCConCiud.aspx?del=43&mun=152&UrbRus=&RefC=43152A05500024&Apenom=&esBice=&RCBice1=&RCBice2=&DenoBice=&latitud=&longitud=&gradoslat=&minlat=&seglat=&gradoslon=&minlon=&seglon=&x=&y=&huso=&tipoCoordenadas=&ZV=NO', '308676', '4536816', '40.96009', '0.72654'], ['54', '', '215', 'Plana del Llorell', 'G. de la Tana', '', 'Adriana Sanz [630 682 769]', '12', 'Llog. T.', '', '', '', '', '', '', '', '54 G. de la Tana (Plana del Llorell)', '43152A05500099', 'https://www.instamaps.cat/visor.html?businessid=85fcdf4dd16c1608ef94765154ebc6c7&3D=false#18/40.9604/0.73846', 'https://www1.sedecatastro.gob.es/CYCBienInmueble/OVCConCiud.aspx?del=43&mun=152&UrbRus=&RefC=43152A05500099&Apenom=&esBice=&RCBice1=&RCBice2=&DenoBice=&latitud=&longitud=&gradoslat=&minlat=&seglat=&gradoslon=&minlon=&seglon=&x=&y=&huso=&tipoCoordenadas=&ZV=NO', '309680.19', '4536824.05', '40.9604', '0.73846'], ['55', '', '224', 'Plana del Llorell', 'Mas Pacheco', '', 'Hermano/a [658 889 533]', '', '', '34658889533', \"'+34 658 889 533\", 'Rafael Pacheco [938 649 438]', '', 'Pendiente contacto', '', '', '55 Mas Pacheco (Plana del Llorell)', '43152A05500025', 'https://www.instamaps.cat/visor.html?businessid=85fcdf4dd16c1608ef94765154ebc6c7&3D=false#18/40.96021/0.72822', 'https://www1.sedecatastro.gob.es/CYCBienInmueble/OVCConCiud.aspx?del=43&mun=152&UrbRus=&RefC=43152A05500025&Apenom=&esBice=&RCBice1=&RCBice2=&DenoBice=&latitud=&longitud=&gradoslat=&minlat=&seglat=&gradoslon=&minlon=&seglon=&x=&y=&huso=&tipoCoordenadas=&ZV=NO', '308818', '4536825', '40.96021', '0.72822'], ['56', '', '229', 'Plana del Llorell', 'Lo Tallarol', '', 'Mercedes Fdez-Pinedo [630 639 126]', '8', '', '34630639126', \"'+34 630 639 126\", 'Fermín Alberdi[618 925 480]', '', 'WhatsApp', 'mferpinedo@gmail.com', '', '56 Lo Tallarol (Plana del Llorell)', '43152A05500032', 'https://www.instamaps.cat/visor.html?businessid=85fcdf4dd16c1608ef94765154ebc6c7&3D=false#18/40.96014/0.72404', 'https://www1.sedecatastro.gob.es/CYCBienInmueble/OVCConCiud.aspx?del=43&mun=152&UrbRus=&RefC=43152A05500032&Apenom=&esBice=&RCBice1=&RCBice2=&DenoBice=&latitud=&longitud=&gradoslat=&minlat=&seglat=&gradoslon=&minlon=&seglon=&x=&y=&huso=&tipoCoordenadas=&ZV=NO', '308466', '4536827', '40.96014', '0.72404'], ['57', '', '215', 'Plana del Llorell', 'La Pallisa', '', 'Charo Orcoyen [638 485 094]', '12', 'Adriana Sanz [630 682 769] Joris Debo [638865187]', '34630682769', '', '', '', '', '', '', '57 La Pallisa (Plana del Llorell)', '43152A05500056', 'https://www.instamaps.cat/visor.html?businessid=85fcdf4dd16c1608ef94765154ebc6c7&3D=false#18/40.96051/0.73937', 'https://www1.sedecatastro.gob.es/CYCBienInmueble/OVCConCiud.aspx?del=43&mun=152&UrbRus=&RefC=43152A05500056&Apenom=&esBice=&RCBice1=&RCBice2=&DenoBice=&latitud=&longitud=&gradoslat=&minlat=&seglat=&gradoslon=&minlon=&seglon=&x=&y=&huso=&tipoCoordenadas=&ZV=NO', '309757.09', '4536834.28', '40.96051', '0.73937'], ['58', '', '216', 'Plana del Llorell', 'Mas de Guinardera', '', 'Montserrat Recasens [630 023 747]', '', '', '34630023747', \"'+34 630 023 747\", 'Francisco [977 265 013]', '', 'WhatsApp', 'goldensdelacabanya.com', 'Com. Goldens de la Cabanya', '58 Mas de Guinardera (Plana del Llorell)', '43152A05500032', 'https://www.instamaps.cat/visor.html?businessid=85fcdf4dd16c1608ef94765154ebc6c7&3D=false#18/40.96082/0.74563', 'https://www1.sedecatastro.gob.es/CYCBienInmueble/OVCConCiud.aspx?del=43&mun=152&UrbRus=&RefC=43152A05500032&Apenom=&esBice=&RCBice1=&RCBice2=&DenoBice=&latitud=&longitud=&gradoslat=&minlat=&seglat=&gradoslon=&minlon=&seglon=&x=&y=&huso=&tipoCoordenadas=&ZV=NO', '310285', '4536855', '40.96082', '0.74563'], ['59', '', '237', 'Plana del Llorell', 'Can V.', 'Can Viçens', 'Santiago Viçens [677044798]', '', '', '34677044798', \"'+34 977 218 701\", 'Santi Vinçens [650400392][977 218 701]', '', 'WhatsApp', 'avicens@ctmail.net', '', '59 Can V. (Plana del Llorell)', '43152A05600052', 'https://www.instamaps.cat/visor.html?businessid=85fcdf4dd16c1608ef94765154ebc6c7&3D=false#18/40.96165/0.72398', 'https://www1.sedecatastro.gob.es/CYCBienInmueble/OVCConCiud.aspx?del=43&mun=152&UrbRus=&RefC=43152A05600052&Apenom=&esBice=&RCBice1=&RCBice2=&DenoBice=&latitud=&longitud=&gradoslat=&minlat=&seglat=&gradoslon=&minlon=&seglon=&x=&y=&huso=&tipoCoordenadas=&ZV=NO', '308465', '4536994', '40.96165', '0.72398'], ['60', '', '234', 'Plana del Llorell', 'Mas Toledà', '', 'Jovi Toledano [600 932 814]', '', '', '34600932814', \"'+34 636 281 431\", 'M. Carmen Puerta y Jovi Toledano', '', 'WhatsApp', '', 'Antic Cerdanyola...M.Carmen Puerta [636 281 431]', '60 Mas Toledà (Plana del Llorell)', '43152A05500027', 'https://www.instamaps.cat/visor.html?businessid=85fcdf4dd16c1608ef94765154ebc6c7&3D=false#18/40.96225/0.72882', 'https://www1.sedecatastro.gob.es/CYCBienInmueble/OVCConCiud.aspx?del=43&mun=152&UrbRus=&RefC=43152A05500027&Apenom=&esBice=&RCBice1=&RCBice2=&DenoBice=&latitud=&longitud=&gradoslat=&minlat=&seglat=&gradoslon=&minlon=&seglon=&x=&y=&huso=&tipoCoordenadas=&ZV=NO', '308874', '4537051', '40.96225', '0.72882'], ['61', '', '220', 'Plana del Llorell', 'Mas La Xineta', '', 'Olalla Belmonte [680 807 021]', '', '', '34680807021', '', '', '', 'Pendiente contacto', '', 'Hija de Sara e Ignacio de Mas la Tecla', '61 Mas La Xineta (Plana del Llorell)', '43152A05500042', 'https://www.instamaps.cat/visor.html?businessid=85fcdf4dd16c1608ef94765154ebc6c7&3D=false#18/40.96276/0.73985', 'https://www1.sedecatastro.gob.es/CYCBienInmueble/OVCConCiud.aspx?del=43&mun=152&UrbRus=&RefC=43152A05500042&Apenom=&esBice=&RCBice1=&RCBice2=&DenoBice=&latitud=&longitud=&gradoslat=&minlat=&seglat=&gradoslon=&minlon=&seglon=&x=&y=&huso=&tipoCoordenadas=&ZV=NO', '309804', '4537083', '40.96276', '0.73985'], ['62', '', '227', 'Plana del Llorell', 'Mas de Pepa dels Tossals', '', 'Isabelle [652 336 944]', '', '', '34652336944', \"'+34 652 336 944\", 'Patrick', '', 'WhatsApp', '', '', '62 Mas de Pepa dels Tossals (Plana del Llorell)', '43152A05600048', 'https://www.instamaps.cat/visor.html?businessid=85fcdf4dd16c1608ef94765154ebc6c7&3D=false#18/40.96243/0.72152', 'https://www1.sedecatastro.gob.es/CYCBienInmueble/OVCConCiud.aspx?del=43&mun=152&UrbRus=&RefC=43152A05600048&Apenom=&esBice=&RCBice1=&RCBice2=&DenoBice=&latitud=&longitud=&gradoslat=&minlat=&seglat=&gradoslon=&minlon=&seglon=&x=&y=&huso=&tipoCoordenadas=&ZV=NO', '308260', '4537086', '40.96243', '0.72152'], ['63', '', '236', 'Plana del Llorell', 'Mas de Bausó', '', 'Gonzalo Belmonte [+33 628 061 610]', '', '', '33628061610', \"'+33 628 061 610\", '[+33 153 824 149] Olalla Belmonte 309743. 4537021[680 807 021]', '', 'WhatsApp', 'belroc@free.fr', '', '63 Mas de Bausó (Plana del Llorell)', '43152A05500041', 'https://www.instamaps.cat/visor.html?businessid=85fcdf4dd16c1608ef94765154ebc6c7&3D=false#18/40.96344/0.74157', 'https://www1.sedecatastro.gob.es/CYCBienInmueble/OVCConCiud.aspx?del=43&mun=152&UrbRus=&RefC=43152A05500041&Apenom=&esBice=&RCBice1=&RCBice2=&DenoBice=&latitud=&longitud=&gradoslat=&minlat=&seglat=&gradoslon=&minlon=&seglon=&x=&y=&huso=&tipoCoordenadas=&ZV=NO', '309951', '4537155', '40.96344', '0.74157'], ['64', '', '228', 'Plana del Llorell', 'Mas de Guitarres', '', 'Jordi Quintana [652 962 729]', '', '', '34652962729', '', '', '', '', '', '', '64 Mas de Guitarres (Plana del Llorell)', '43152A05400004', 'https://www.instamaps.cat/visor.html?businessid=85fcdf4dd16c1608ef94765154ebc6c7&3D=false#18/40.96305/0.71941', 'https://www1.sedecatastro.gob.es/CYCBienInmueble/OVCConCiud.aspx?del=43&mun=152&UrbRus=&RefC=43152A05400004&Apenom=&esBice=&RCBice1=&RCBice2=&DenoBice=&latitud=&longitud=&gradoslat=&minlat=&seglat=&gradoslon=&minlon=&seglon=&x=&y=&huso=&tipoCoordenadas=&ZV=NO', '308084.6', '4537159.93', '40.96305', '0.71941'], ['65', '', '237', 'Vallplana', 'Masia Peixet', '', 'Carlos Arques  [626 443 774]', '', '', '', '', '', '', 'WhatsApp', '', '', '65 Masia Peixet (Vallplana)', '43152A06900159', 'https://www.instamaps.cat/visor.html?businessid=85fcdf4dd16c1608ef94765154ebc6c7&3D=false#18/40.96307/0.70311', 'https://www1.sedecatastro.gob.es/CYCBienInmueble/OVCConCiud.aspx?del=43&mun=152&UrbRus=&RefC=43152A06900159&Apenom=&esBice=&RCBice1=&RCBice2=&DenoBice=&latitud=&longitud=&gradoslat=&minlat=&seglat=&gradoslon=&minlon=&seglon=&x=&y=&huso=&tipoCoordenadas=&ZV=NO', '306713', '4537198', '40.96307', '0.70311'], ['66', '', '233', 'Plana del Llorell', 'Mas Lavanda', '', 'Jordi Quintana [652 962 729]', '12', 'Llog. T.', '', '', '', '', '', '', '', '66 Mas Lavanda (Plana del Llorell)', '43152A05600046', 'https://www.instamaps.cat/visor.html?businessid=85fcdf4dd16c1608ef94765154ebc6c7&3D=false#18/40.96446/0.72005', 'https://www1.sedecatastro.gob.es/CYCBienInmueble/OVCConCiud.aspx?del=43&mun=152&UrbRus=&RefC=43152A05600046&Apenom=&esBice=&RCBice1=&RCBice2=&DenoBice=&latitud=&longitud=&gradoslat=&minlat=&seglat=&gradoslon=&minlon=&seglon=&x=&y=&huso=&tipoCoordenadas=&ZV=NO', '308142.55', '4537315.07', '40.96446', '0.72005'], ['67', '', '243', 'Vallplana', 'Mas Farigola', '', 'Mª José Moreno [656 937 287]', '', '', '34656937287', \"'+34 656 937 287\", 'MargOliva PV [693238740]', '', 'WhatsApp', 'marverdemj@gmail.com', 'Antic Mas de Jaume de la Salvadora', '67 Mas Farigola (Vallplana)', '43152A06700023', 'https://www.instamaps.cat/visor.html?businessid=85fcdf4dd16c1608ef94765154ebc6c7&3D=false#18/40.96491/0.70741', 'https://www1.sedecatastro.gob.es/CYCBienInmueble/OVCConCiud.aspx?del=43&mun=152&UrbRus=&RefC=43152A06700023&Apenom=&esBice=&RCBice1=&RCBice2=&DenoBice=&latitud=&longitud=&gradoslat=&minlat=&seglat=&gradoslon=&minlon=&seglon=&x=&y=&huso=&tipoCoordenadas=&ZV=NO', '307080', '4537393', '40.96491', '0.70741'], ['68', '', '238', 'Vallplana', 'Mas Trasto', '', 'Jürgen Tröster [+49 176 1026 5375]', '', '', '4917610265375', \"'+34 670 292 595\", '[647 013 509] Montse Alcoverro [670 292 595]', '', 'Telèfon', '', 'Antic Mas de Carquinyola ..Montse Alcoverro [670 292 595]', '68 Mas Trasto (Vallplana)', '43152A06700021', 'https://www.instamaps.cat/visor.html?businessid=85fcdf4dd16c1608ef94765154ebc6c7&3D=false#18/40.96516/0.71057', 'https://www1.sedecatastro.gob.es/CYCBienInmueble/OVCConCiud.aspx?del=43&mun=152&UrbRus=&RefC=43152A06700021&Apenom=&esBice=&RCBice1=&RCBice2=&DenoBice=&latitud=&longitud=&gradoslat=&minlat=&seglat=&gradoslon=&minlon=&seglon=&x=&y=&huso=&tipoCoordenadas=&ZV=NO', '307347', '4537414', '40.96516', '0.71057'], ['69', '', '258', 'Plana del Llorell', 'Posada del Cutit', '', 'Ivan Coll [615 449 103]', '12', '', '34615449103', \"'+34 615 449 103\", 'Maxie Väo [+49 171 177 6714]', '', 'WhatsApp', '', \"Mas d'Abelles\", '69 Posada del Cutit (Plana del Llorell)', '43152A05600066', 'https://www.instamaps.cat/visor.html?businessid=85fcdf4dd16c1608ef94765154ebc6c7&3D=false#18/40.96585/0.72572', 'https://www1.sedecatastro.gob.es/CYCBienInmueble/OVCConCiud.aspx?del=43&mun=152&UrbRus=&RefC=43152A05600066&Apenom=&esBice=&RCBice1=&RCBice2=&DenoBice=&latitud=&longitud=&gradoslat=&minlat=&seglat=&gradoslon=&minlon=&seglon=&x=&y=&huso=&tipoCoordenadas=&ZV=NO', '308624', '4537457', '40.96585', '0.72572'], ['70', '', '272', 'Vallplana', 'Mas Mioma', '', 'Peret [630 436 097]', '', '', '34630436097', \"'+34 650 012 599\", 'Peret de Deu y Lorena [655 242 213]', '', 'WhatsApp', '', 'Ismael i Maria [650 012 599]', '70 Mas Mioma (Vallplana)', '43152A06700040', 'https://www.instamaps.cat/visor.html?businessid=85fcdf4dd16c1608ef94765154ebc6c7&3D=false#18/40.97129/0.71369', 'https://www1.sedecatastro.gob.es/CYCBienInmueble/OVCConCiud.aspx?del=43&mun=152&UrbRus=&RefC=43152A06700040&Apenom=&esBice=&RCBice1=&RCBice2=&DenoBice=&latitud=&longitud=&gradoslat=&minlat=&seglat=&gradoslon=&minlon=&seglon=&x=&y=&huso=&tipoCoordenadas=&ZV=NO', '307627', '4538087', '40.97129', '0.71369'], ['71', '', '237', 'Vallplana', 'Mas de Pataca', '', 'Magne van den Berg [+31 615 178 246]', '', '', '31615178246', \"'+31 615 178 246\", 'Marien [+31648548944]', '', 'WhatsApp', '', 'Las Cucas', '71 Mas de Pataca (Vallplana)', '43152A06700011', 'https://www.instamaps.cat/visor.html?businessid=85fcdf4dd16c1608ef94765154ebc6c7&3D=false#18/40.97187/0.71919', 'https://www1.sedecatastro.gob.es/CYCBienInmueble/OVCConCiud.aspx?del=43&mun=152&UrbRus=&RefC=43152A06700011&Apenom=&esBice=&RCBice1=&RCBice2=&DenoBice=&latitud=&longitud=&gradoslat=&minlat=&seglat=&gradoslon=&minlon=&seglon=&x=&y=&huso=&tipoCoordenadas=&ZV=NO', '308092', '4538140', '40.97187', '0.71919'], ['72', '', '360', 'Vallplana', 'La Devesa', '', 'Peret [630436097]', '', '', '', \"'+34 630 436 097\", 'Lorena [655242213]', '', 'WhatsApp', '', '', '72 La Devesa (Vallplana)', '43152A03800067', 'https://www.instamaps.cat/visor.html?businessid=85fcdf4dd16c1608ef94765154ebc6c7&3D=false#18/40.99571/0.73584', 'https://www1.sedecatastro.gob.es/CYCBienInmueble/OVCConCiud.aspx?del=43&mun=152&UrbRus=&RefC=43152A03800067&Apenom=&esBice=&RCBice1=&RCBice2=&DenoBice=&latitud=&longitud=&gradoslat=&minlat=&seglat=&gradoslon=&minlon=&seglon=&x=&y=&huso=&tipoCoordenadas=&ZV=NO', '309561.33', '4540749.92', '40.99571', '0.73584'], ['73', '', '', '', '', '', '', '', '', '', '', 'Jovi Grant i Maika ', '', '', '', '', '73  ()', '', '', '', '', '', '', ''], ['74', '', '', '', '', '', '[683 528 408]', '', '', '', '+34 683 528 408', '', '', 'WhatsApp', '', '', '74  ()', '', '', '', '', '', '', ''], ['75', '', '', '', '', '', 'Luis Brull [659141053]', '', '', '', \"'+34 659 141 053\", 'Inma', '', 'WhatsApp', '', '', '75  ()', '', '', '', '', '', '', ''], ['76', '', '', \"Viñassa -L'Ametlla-\", '', '', 'Enric [+34 670 785 790]', '', '', '', '+34 670 785 790', '', '', 'WhatsApp', '', '', \"76  (Viñassa -L'Ametlla-)\", '', '', '', '', '', '', ''], ['77', '', '', \"Les Vinaixes -L'Ametlla-\", '', '', 'David [607444453]', '', '', '', \"'+34 607 444 453\", '', '', 'WhatsApp', '', '', \"77  (Les Vinaixes -L'Ametlla-)\", '', '', '', '', '', '', '']]\n"
          ]
        }
      ]
    },
    {
      "cell_type": "code",
      "source": [
        "df = dfmasies\n",
        "# Convert the column to numeric data type\n",
        "df[['latwgs84','lonwgs84']] = df[['latwgs84', 'lonwgs84']].astype('string')\n",
        "df['latwgs84'] = df['latwgs84'].str.replace(',', '.')\n",
        "df['lonwgs84'] = df['lonwgs84'].str.replace(',', '.')\n",
        "df['latwgs84'] = pd.to_numeric(df['latwgs84'], errors='coerce')\n",
        "df['lonwgs84'] = pd.to_numeric(df['lonwgs84'], errors='coerce')\n",
        "df['cota_m'] = pd.to_numeric(df['cota_m'], errors='coerce')\n",
        "df = df.dropna(subset=['latwgs84', 'lonwgs84'])"
      ],
      "metadata": {
        "id": "7R21huNWsjFq"
      },
      "execution_count": 3,
      "outputs": []
    },
    {
      "cell_type": "code",
      "source": [
        "# \n",
        "df.info()"
      ],
      "metadata": {
        "colab": {
          "base_uri": "https://localhost:8080/"
        },
        "id": "MwhRe23mpou7",
        "outputId": "eaacdec5-b8f9-421b-9d82-e98442460fd3"
      },
      "execution_count": 4,
      "outputs": [
        {
          "output_type": "stream",
          "name": "stdout",
          "text": [
            "<class 'pandas.core.frame.DataFrame'>\n",
            "Int64Index: 72 entries, 1 to 72\n",
            "Data columns (total 24 columns):\n",
            " #   Column               Non-Null Count  Dtype  \n",
            "---  ------               --------------  -----  \n",
            " 0   id_geo               72 non-null     object \n",
            " 1   id_incendis          72 non-null     object \n",
            " 2   cota_m               68 non-null     float64\n",
            " 3   zona_nom             72 non-null     object \n",
            " 4   masia_nom            72 non-null     object \n",
            " 5   masia_nom2           72 non-null     object \n",
            " 6   nombre1_y_telefono1  72 non-null     object \n",
            " 7   meses_habitados      72 non-null     object \n",
            " 8   nombre2_y_telefono2  72 non-null     object \n",
            " 9   telefono1            72 non-null     object \n",
            " 10  telefono2            72 non-null     object \n",
            " 11  notas_aclaratorias   72 non-null     object \n",
            " 12  whatsapp_tiene       72 non-null     object \n",
            " 13  whatsapp_nombre      72 non-null     object \n",
            " 14  correo               72 non-null     object \n",
            " 15  info_adicional       72 non-null     object \n",
            " 16  etiq_mapa            72 non-null     object \n",
            " 17  ref_catastral        72 non-null     object \n",
            " 18  url_mapa             72 non-null     object \n",
            " 19  url_catastro         72 non-null     object \n",
            " 20  xetrs89              72 non-null     object \n",
            " 21  yetrs89              72 non-null     object \n",
            " 22  latwgs84             72 non-null     float64\n",
            " 23  lonwgs84             72 non-null     float64\n",
            "dtypes: float64(3), object(21)\n",
            "memory usage: 14.1+ KB\n"
          ]
        }
      ]
    },
    {
      "cell_type": "code",
      "source": [
        "from shapely.geometry import Point\n",
        "df.loc[:, 'geometry'] = df.apply(lambda x: Point((float(x.lonwgs84), float(x.latwgs84))), axis=1)"
      ],
      "metadata": {
        "colab": {
          "base_uri": "https://localhost:8080/"
        },
        "id": "BK4utXF8r4Ur",
        "outputId": "ba87d8a0-c63d-4d52-c040-17d5db48fcf1"
      },
      "execution_count": 5,
      "outputs": [
        {
          "output_type": "stream",
          "name": "stderr",
          "text": [
            "/usr/local/lib/python3.8/dist-packages/pandas/core/indexing.py:1667: SettingWithCopyWarning: \n",
            "A value is trying to be set on a copy of a slice from a DataFrame.\n",
            "Try using .loc[row_indexer,col_indexer] = value instead\n",
            "\n",
            "See the caveats in the documentation: https://pandas.pydata.org/pandas-docs/stable/user_guide/indexing.html#returning-a-view-versus-a-copy\n",
            "  self.obj[key] = value\n"
          ]
        }
      ]
    },
    {
      "cell_type": "code",
      "source": [
        "gdf = gpd.GeoDataFrame(df, geometry='geometry')\n",
        "gdf = gdf[['masia_nom','whatsapp_tiene','whatsapp_nombre','id_incendis', 'cota_m', 'etiq_mapa', 'ref_catastral', 'geometry','latwgs84', 'lonwgs84']]\n",
        "gdf.crs = {'init': 'epsg:4326'}\n",
        "gdf.info()"
      ],
      "metadata": {
        "id": "LtQlztpezHoz",
        "colab": {
          "base_uri": "https://localhost:8080/"
        },
        "outputId": "803ac3a0-be19-454e-80d4-629234b8920e"
      },
      "execution_count": 6,
      "outputs": [
        {
          "output_type": "stream",
          "name": "stdout",
          "text": [
            "<class 'geopandas.geodataframe.GeoDataFrame'>\n",
            "Int64Index: 72 entries, 1 to 72\n",
            "Data columns (total 10 columns):\n",
            " #   Column           Non-Null Count  Dtype   \n",
            "---  ------           --------------  -----   \n",
            " 0   masia_nom        72 non-null     object  \n",
            " 1   whatsapp_tiene   72 non-null     object  \n",
            " 2   whatsapp_nombre  72 non-null     object  \n",
            " 3   id_incendis      72 non-null     object  \n",
            " 4   cota_m           68 non-null     float64 \n",
            " 5   etiq_mapa        72 non-null     object  \n",
            " 6   ref_catastral    72 non-null     object  \n",
            " 7   geometry         72 non-null     geometry\n",
            " 8   latwgs84         72 non-null     float64 \n",
            " 9   lonwgs84         72 non-null     float64 \n",
            "dtypes: float64(3), geometry(1), object(6)\n",
            "memory usage: 6.2+ KB\n"
          ]
        },
        {
          "output_type": "stream",
          "name": "stderr",
          "text": [
            "/usr/local/lib/python3.8/dist-packages/pyproj/crs/crs.py:141: FutureWarning: '+init=<authority>:<code>' syntax is deprecated. '<authority>:<code>' is the preferred initialization method. When making the change, be mindful of axis order changes: https://pyproj4.github.io/pyproj/stable/gotchas.html#axis-order-changes-in-proj-6\n",
            "  in_crs_string = _prepare_from_proj_string(in_crs_string)\n"
          ]
        }
      ]
    },
    {
      "cell_type": "code",
      "source": [
        "import folium\n",
        "#extraer vértices de marco\n",
        "sw = gdf[['latwgs84', 'lonwgs84']].min().values.tolist()\n",
        "ne = gdf[['latwgs84', 'lonwgs84']].max().values.tolist()\n",
        "#determinar el fondo\n",
        "tileado_name = \"OpenStreetMap\" #@param [\"Stamen Toner\", \"Stamen Terrain\", \"OpenStreetMap\", \"Cartodbdark_matter\"]\n",
        "#crear el mapa con el fondo elegido\n",
        "m = folium.Map(tiles=tileado_name)\n",
        "#poner el marco\n",
        "m.fit_bounds([sw, ne])"
      ],
      "metadata": {
        "id": "AW8yn6gZqIgb"
      },
      "execution_count": 7,
      "outputs": []
    },
    {
      "cell_type": "code",
      "source": [
        "for row in gdf.itertuples():\n",
        "    folium.Marker([row.geometry.y, row.geometry.x],\n",
        "                  icon=folium.Icon(\n",
        "                      color='white', \n",
        "                      icon_color='black', \n",
        "                      icon='home', \n",
        "                      angle=0\n",
        "                      ),\n",
        "                  popup = folium.Popup(\n",
        "                      \"<b>{}</b> <br> Id: <b>{}</b> <br> Whats: {} \"\n",
        "                      .format(\n",
        "                          row.masia_nom, row.id_incendis, row.whatsapp_tiene))).add_to(m)"
      ],
      "metadata": {
        "id": "CY3thpIi-h4S"
      },
      "execution_count": 8,
      "outputs": []
    },
    {
      "cell_type": "code",
      "source": [
        "from google.colab import drive\n",
        "drive.mount('/content/drive')\n",
        "m.save(\"/content/drive/My Drive/AVMBT/geodatos/index.html\")"
      ],
      "metadata": {
        "colab": {
          "base_uri": "https://localhost:8080/"
        },
        "id": "lyv6N_aw-nUn",
        "outputId": "3634f1c9-5425-4a6d-9dbf-6fd728d9ab40"
      },
      "execution_count": 9,
      "outputs": [
        {
          "output_type": "stream",
          "name": "stdout",
          "text": [
            "Mounted at /content/drive\n"
          ]
        }
      ]
    }
  ]
}