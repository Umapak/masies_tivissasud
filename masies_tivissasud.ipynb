{
  "nbformat": 4,
  "nbformat_minor": 0,
  "metadata": {
    "colab": {
      "provenance": [],
      "mount_file_id": "1-lsNAWJNy9FoSiF5pqz-SthAiEDz2zj_",
      "authorship_tag": "ABX9TyMrqwnRmxKszv0Fbx+oFiHN",
      "include_colab_link": true
    },
    "kernelspec": {
      "name": "python3",
      "display_name": "Python 3"
    },
    "language_info": {
      "name": "python"
    }
  },
  "cells": [
    {
      "cell_type": "markdown",
      "metadata": {
        "id": "view-in-github",
        "colab_type": "text"
      },
      "source": [
        "<a href=\"https://colab.research.google.com/github/Umapak/masies_tivissasud/blob/gh_viewers/masies_tivissasud.ipynb\" target=\"_parent\"><img src=\"https://colab.research.google.com/assets/colab-badge.svg\" alt=\"Open In Colab\"/></a>"
      ]
    },
    {
      "cell_type": "markdown",
      "source": [
        "# Masies de Tivissa Sud"
      ],
      "metadata": {
        "id": "VBl0iaADRfO2"
      }
    },
    {
      "cell_type": "code",
      "execution_count": 1,
      "metadata": {
        "id": "m5HQHQk5XR0Q"
      },
      "outputs": [],
      "source": [
        "%%capture\n",
        "!pip install --upgrade gspread\n",
        "!apt install libspatialindex-dev\n",
        "!pip install rtree\n",
        "!pip install geopandas"
      ]
    },
    {
      "cell_type": "code",
      "source": [
        "#@title import from Google drive\n",
        "from google.colab import auth\n",
        "auth.authenticate_user()\n",
        "\n",
        "import gspread\n",
        "from google.auth import default\n",
        "creds, _ = default()\n",
        "\n",
        "gc = gspread.authorize(creds)\n",
        "# hemen zehaztu behar da zein den google drive-n eman zaion izena\n",
        "pre1taula = gc.open('CAPLPV').sheet1\n",
        "# get_all_values gives a list of rows.\n",
        "erregistroak = pre1taula.get_all_values()\n",
        "#print(erregistroak)\n",
        "\n",
        "# datu sorta guztia taula erabilgarri formatura pasako du eta campo bakoitzaren izena jarriko du.\n",
        "import pandas as pd\n",
        "import geopandas as gpd\n",
        "dfmasies = pd.DataFrame.from_records(erregistroak)\n",
        "dfmasies.columns = dfmasies.iloc[0]\n",
        "dfmasies = dfmasies.iloc[1: , :]"
      ],
      "metadata": {
        "id": "k6O5FevUa8Ky"
      },
      "execution_count": 10,
      "outputs": []
    },
    {
      "cell_type": "code",
      "source": [
        "df = dfmasies\n",
        "# Convert the column to numeric data type\n",
        "df[['latwgs84','lonwgs84']] = df[['latwgs84', 'lonwgs84']].astype('string')\n",
        "df['latwgs84'] = df['latwgs84'].str.replace(',', '.')\n",
        "df['lonwgs84'] = df['lonwgs84'].str.replace(',', '.')\n",
        "df['latwgs84'] = pd.to_numeric(df['latwgs84'], errors='coerce')\n",
        "df['lonwgs84'] = pd.to_numeric(df['lonwgs84'], errors='coerce')\n",
        "df['cota_m'] = pd.to_numeric(df['cota_m'], errors='coerce')\n",
        "df = df.dropna(subset=['latwgs84', 'lonwgs84'])"
      ],
      "metadata": {
        "id": "7R21huNWsjFq"
      },
      "execution_count": 3,
      "outputs": []
    },
    {
      "cell_type": "code",
      "source": [
        "# \n",
        "df.info()"
      ],
      "metadata": {
        "colab": {
          "base_uri": "https://localhost:8080/"
        },
        "id": "MwhRe23mpou7",
        "outputId": "eaacdec5-b8f9-421b-9d82-e98442460fd3"
      },
      "execution_count": 4,
      "outputs": [
        {
          "output_type": "stream",
          "name": "stdout",
          "text": [
            "<class 'pandas.core.frame.DataFrame'>\n",
            "Int64Index: 72 entries, 1 to 72\n",
            "Data columns (total 24 columns):\n",
            " #   Column               Non-Null Count  Dtype  \n",
            "---  ------               --------------  -----  \n",
            " 0   id_geo               72 non-null     object \n",
            " 1   id_incendis          72 non-null     object \n",
            " 2   cota_m               68 non-null     float64\n",
            " 3   zona_nom             72 non-null     object \n",
            " 4   masia_nom            72 non-null     object \n",
            " 5   masia_nom2           72 non-null     object \n",
            " 6   nombre1_y_telefono1  72 non-null     object \n",
            " 7   meses_habitados      72 non-null     object \n",
            " 8   nombre2_y_telefono2  72 non-null     object \n",
            " 9   telefono1            72 non-null     object \n",
            " 10  telefono2            72 non-null     object \n",
            " 11  notas_aclaratorias   72 non-null     object \n",
            " 12  whatsapp_tiene       72 non-null     object \n",
            " 13  whatsapp_nombre      72 non-null     object \n",
            " 14  correo               72 non-null     object \n",
            " 15  info_adicional       72 non-null     object \n",
            " 16  etiq_mapa            72 non-null     object \n",
            " 17  ref_catastral        72 non-null     object \n",
            " 18  url_mapa             72 non-null     object \n",
            " 19  url_catastro         72 non-null     object \n",
            " 20  xetrs89              72 non-null     object \n",
            " 21  yetrs89              72 non-null     object \n",
            " 22  latwgs84             72 non-null     float64\n",
            " 23  lonwgs84             72 non-null     float64\n",
            "dtypes: float64(3), object(21)\n",
            "memory usage: 14.1+ KB\n"
          ]
        }
      ]
    },
    {
      "cell_type": "code",
      "source": [
        "from shapely.geometry import Point\n",
        "df.loc[:, 'geometry'] = df.apply(lambda x: Point((float(x.lonwgs84), float(x.latwgs84))), axis=1)"
      ],
      "metadata": {
        "colab": {
          "base_uri": "https://localhost:8080/"
        },
        "id": "BK4utXF8r4Ur",
        "outputId": "ba87d8a0-c63d-4d52-c040-17d5db48fcf1"
      },
      "execution_count": 5,
      "outputs": [
        {
          "output_type": "stream",
          "name": "stderr",
          "text": [
            "/usr/local/lib/python3.8/dist-packages/pandas/core/indexing.py:1667: SettingWithCopyWarning: \n",
            "A value is trying to be set on a copy of a slice from a DataFrame.\n",
            "Try using .loc[row_indexer,col_indexer] = value instead\n",
            "\n",
            "See the caveats in the documentation: https://pandas.pydata.org/pandas-docs/stable/user_guide/indexing.html#returning-a-view-versus-a-copy\n",
            "  self.obj[key] = value\n"
          ]
        }
      ]
    },
    {
      "cell_type": "code",
      "source": [
        "gdf = gpd.GeoDataFrame(df, geometry='geometry')\n",
        "gdf = gdf[['masia_nom','whatsapp_tiene','whatsapp_nombre','id_incendis', 'cota_m', 'etiq_mapa', 'ref_catastral', 'geometry','latwgs84', 'lonwgs84']]\n",
        "gdf.crs = {'init': 'epsg:4326'}\n",
        "gdf.info()"
      ],
      "metadata": {
        "id": "LtQlztpezHoz",
        "colab": {
          "base_uri": "https://localhost:8080/"
        },
        "outputId": "803ac3a0-be19-454e-80d4-629234b8920e"
      },
      "execution_count": 6,
      "outputs": [
        {
          "output_type": "stream",
          "name": "stdout",
          "text": [
            "<class 'geopandas.geodataframe.GeoDataFrame'>\n",
            "Int64Index: 72 entries, 1 to 72\n",
            "Data columns (total 10 columns):\n",
            " #   Column           Non-Null Count  Dtype   \n",
            "---  ------           --------------  -----   \n",
            " 0   masia_nom        72 non-null     object  \n",
            " 1   whatsapp_tiene   72 non-null     object  \n",
            " 2   whatsapp_nombre  72 non-null     object  \n",
            " 3   id_incendis      72 non-null     object  \n",
            " 4   cota_m           68 non-null     float64 \n",
            " 5   etiq_mapa        72 non-null     object  \n",
            " 6   ref_catastral    72 non-null     object  \n",
            " 7   geometry         72 non-null     geometry\n",
            " 8   latwgs84         72 non-null     float64 \n",
            " 9   lonwgs84         72 non-null     float64 \n",
            "dtypes: float64(3), geometry(1), object(6)\n",
            "memory usage: 6.2+ KB\n"
          ]
        },
        {
          "output_type": "stream",
          "name": "stderr",
          "text": [
            "/usr/local/lib/python3.8/dist-packages/pyproj/crs/crs.py:141: FutureWarning: '+init=<authority>:<code>' syntax is deprecated. '<authority>:<code>' is the preferred initialization method. When making the change, be mindful of axis order changes: https://pyproj4.github.io/pyproj/stable/gotchas.html#axis-order-changes-in-proj-6\n",
            "  in_crs_string = _prepare_from_proj_string(in_crs_string)\n"
          ]
        }
      ]
    },
    {
      "cell_type": "code",
      "source": [
        "import folium\n",
        "#extraer vértices de marco\n",
        "sw = gdf[['latwgs84', 'lonwgs84']].min().values.tolist()\n",
        "ne = gdf[['latwgs84', 'lonwgs84']].max().values.tolist()\n",
        "#determinar el fondo\n",
        "tileado_name = \"OpenStreetMap\" #@param [\"Stamen Toner\", \"Stamen Terrain\", \"OpenStreetMap\", \"Cartodbdark_matter\"]\n",
        "#crear el mapa con el fondo elegido\n",
        "m = folium.Map(tiles=tileado_name)\n",
        "#poner el marco\n",
        "m.fit_bounds([sw, ne])"
      ],
      "metadata": {
        "id": "AW8yn6gZqIgb"
      },
      "execution_count": 7,
      "outputs": []
    },
    {
      "cell_type": "code",
      "source": [
        "for row in gdf.itertuples():\n",
        "    folium.Marker([row.geometry.y, row.geometry.x],\n",
        "                  icon=folium.Icon(\n",
        "                      color='white', \n",
        "                      icon_color='black', \n",
        "                      icon='home', \n",
        "                      angle=0\n",
        "                      ),\n",
        "                  popup = folium.Popup(\n",
        "                      \"<b>{}</b> <br> Id: <b>{}</b> <br> Whats: {} \"\n",
        "                      .format(\n",
        "                          row.masia_nom, row.id_incendis, row.whatsapp_tiene))).add_to(m)"
      ],
      "metadata": {
        "id": "CY3thpIi-h4S"
      },
      "execution_count": 8,
      "outputs": []
    },
    {
      "cell_type": "code",
      "source": [
        "from google.colab import drive\n",
        "drive.mount('/content/drive')\n",
        "m.save(\"/content/drive/My Drive/AVMBT/geodatos/index.html\")"
      ],
      "metadata": {
        "colab": {
          "base_uri": "https://localhost:8080/"
        },
        "id": "lyv6N_aw-nUn",
        "outputId": "3634f1c9-5425-4a6d-9dbf-6fd728d9ab40"
      },
      "execution_count": 9,
      "outputs": [
        {
          "output_type": "stream",
          "name": "stdout",
          "text": [
            "Mounted at /content/drive\n"
          ]
        }
      ]
    }
  ]
}